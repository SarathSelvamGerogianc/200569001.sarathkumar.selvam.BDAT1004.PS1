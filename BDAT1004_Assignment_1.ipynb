{
 "cells": [
  {
   "cell_type": "markdown",
   "metadata": {},
   "source": [
    "# Question 1\n",
    "\n",
    "What data type is each of the following ?"
   ]
  },
  {
   "cell_type": "code",
   "execution_count": 2,
   "metadata": {
    "dotnet_interactive": {
     "language": "csharp"
    },
    "polyglot_notebook": {
     "kernelName": "csharp"
    }
   },
   "outputs": [
    {
     "ename": "SyntaxError",
     "evalue": "expected ':' (1767468800.py, line 1)",
     "output_type": "error",
     "traceback": [
      "\u001b[0;36m  Cell \u001b[0;32mIn[2], line 1\u001b[0;36m\u001b[0m\n\u001b[0;31m    try\u001b[0m\n\u001b[0m       ^\u001b[0m\n\u001b[0;31mSyntaxError\u001b[0m\u001b[0;31m:\u001b[0m expected ':'\n"
     ]
    }
   ],
   "source": [
    "try\n",
    "{\n",
    "  Console.WriteLine(\"Data Type of (5.0) is          =  {0}\", (5).GetType());\n",
    "  Console.WriteLine(\"Data Type of (5) is            =  {0}\", (5.0).GetType()); \n",
    "  Console.WriteLine(\"Data Type of ('5') is          =  {0}\", ('5').GetType());\n",
    "  Console.WriteLine(\"Data Type of (5*2) is          =  {0}\", (5*2).GetType());\n",
    "  Console.WriteLine(\"Data Type of ('5' * 2) is      =  {0}\", ('5' * 2).GetType());\n",
    "  Console.WriteLine(\"Data Type of (5/2) is          =  {0}\", (5/2).GetType());\n",
    "  Console.WriteLine(\"Data Type of (5%2) is          =  {0}\", (5%2).GetType());\n",
    "  int[] myNumbers = {1, 2, 3};\n",
    "  Console.WriteLine(\"Data Type of (Math.PI) is      =  {0}\", (myNumbers).GetType());\n",
    "  Console.WriteLine((5 == 3).GetType());\n",
    "}\n",
    "catch (Exception e)\n",
    "{\n",
    "  Console.WriteLine(e.Message);\n",
    "}"
   ]
  },
  {
   "cell_type": "markdown",
   "metadata": {},
   "source": [
    "# Question 2\n",
    "Write (and evaluate) C# expressions that answer these questions:\n",
    "\n",
    "a. How many letters are there in 'Supercalifragilisticexpialidocious'?\n",
    "\n",
    "b. Does 'Supercalifragilisticexpialidocious' contain 'ice' as a substring?\n",
    "\n",
    "c. Which of the following words is the longest: Supercalifragilisticexpialidocious, Honorificabilitudinitatibus, or Bababadalgharaghtakamminarronnkonn?\n",
    "\n",
    "d. Which composer comes first in the dictionary: 'Berlioz', 'Borodin', 'Brian', 'Bartok', 'Bellini', 'Buxtehude', 'Bernstein'. Which one comes last?"
   ]
  },
  {
   "cell_type": "code",
   "execution_count": null,
   "metadata": {
    "dotnet_interactive": {
     "language": "csharp"
    },
    "polyglot_notebook": {
     "kernelName": "csharp"
    }
   },
   "outputs": [
    {
     "name": "stdout",
     "output_type": "stream",
     "text": [
      "34\n",
      "True\n",
      "longestWord        =  Supercalifragilisticexpialidocious\n",
      "First composer: Berlioz\n",
      "Last composer: Bernstein\n"
     ]
    }
   ],
   "source": [
    "string word = \"Supercalifragilisticexpialidocious\";\n",
    "int number_of_letters = word.Length;\n",
    "// number of letters in word Supercalifragilisticexpialidocious\n",
    "Console.WriteLine(number_of_letters);\n",
    "\n",
    "bool contains_ice = word.Contains(\"ice\");\n",
    "Console.WriteLine(contains_ice);\n",
    "\n",
    "//method to find the longest word in a array\n",
    " static string FindLongestWord(string[] words)\n",
    "    {\n",
    "        string longest_word = \"\";\n",
    "        foreach (string word in words)\n",
    "        {\n",
    "            if (word.Length > longest_word.Length)\n",
    "            {\n",
    "                longest_word = word;\n",
    "            }\n",
    "        }\n",
    "        return longest_word;\n",
    "    }\n",
    "\n",
    "string[] words = {\n",
    "    \"Supercalifragilisticexpialidocious\",\n",
    "    \"Honorificabilitudinitatibus\",\n",
    "    \"Bababadalgharaghtakamminarronnkonn\"\n",
    "    };\n",
    "\n",
    "string longestWord = FindLongestWord(words);\n",
    "// longest word in the array\n",
    "Console.WriteLine(\"longestWord        =  {0}\", longestWord);\n",
    "\n",
    "string[] composers = {\n",
    "            \"Berlioz\", \"Borodin\", \"Brian\", \"Bartok\", \"Bellini\", \"Buxtehude\", \"Bernstein\"\n",
    "        };\n",
    "\n",
    "string first_composor = composers[0];\n",
    "string last_composor = composers[composers.Length - 1];\n",
    "// first and last elements in a array\n",
    "Console.WriteLine($\"First composer: {first_composor}\");\n",
    "Console.WriteLine($\"Last composer: {last_composor}\");\n",
    "\n"
   ]
  },
  {
   "cell_type": "markdown",
   "metadata": {},
   "source": [
    "# Question 3\n",
    "\n",
    "Implement function triangleArea(a,b,c) that takes as input the lengths of the 3 sides of a triangle and returns the area of the triangle. By Heron's formula, the area of a triangle with side lengths a, b, and c is   s(s − a)(s − b)(s − c), where\n",
    "Question 3 C#\n",
    " s = (a + b + c)/2."
   ]
  },
  {
   "cell_type": "code",
   "execution_count": null,
   "metadata": {
    "dotnet_interactive": {
     "language": "csharp"
    },
    "polyglot_notebook": {
     "kernelName": "csharp"
    }
   },
   "outputs": [
    {
     "name": "stdout",
     "output_type": "stream",
     "text": [
      "1.7320508075688772\n"
     ]
    }
   ],
   "source": [
    "\n",
    "static double TriangleArea(double a, double b, double c)\n",
    "{\n",
    "    // Calculate the semi-perimeter (s)\n",
    "    double s = (a + b + c) / 2.0;\n",
    "\n",
    "    // Calculate the area using Heron's formula\n",
    "    double area = Math.Sqrt(s * (s - a) * (s - b) * (s - c));\n",
    "\n",
    "    return area;\n",
    "}\n",
    "\n",
    "int a = 2;\n",
    "int b = 2;\n",
    "int c = 2;\n",
    "\n",
    "double area = TriangleArea(a, b, c);\n",
    "Console.WriteLine(area);\n"
   ]
  },
  {
   "cell_type": "markdown",
   "metadata": {},
   "source": [
    "# Question 4\n",
    "Write a program in C# Sharp to separate odd and even integers in separate arrays. \n",
    "\n",
    "Go to the editor\n",
    "\n",
    "Test Data :\n",
    "\n",
    "Input the number of elements to be stored in the array :5\n",
    "\n",
    "Input 5 elements in the array : \n",
    "\n",
    "element - 0 : 25\n",
    "element - 1 : 47\n",
    "element - 2 : 42\n",
    "element - 3 : 56 \n",
    "element - 4 : 32 \n",
    "\n",
    "Expected Output:\n",
    "The Even elements are: 42 56 32\n",
    "The Odd elements are : 25 47"
   ]
  },
  {
   "cell_type": "code",
   "execution_count": null,
   "metadata": {
    "dotnet_interactive": {
     "language": "csharp"
    },
    "polyglot_notebook": {
     "kernelName": "csharp"
    }
   },
   "outputs": [
    {
     "name": "stdout",
     "output_type": "stream",
     "text": [
      "The Odd numbers are: 25 47 \n",
      "The Even numbers are: 42 56 32 \n"
     ]
    }
   ],
   "source": [
    "int[] arr = { 25, 47, 42, 56, 32 };\n",
    "List<int> odd = new List<int>();\n",
    "List<int> even = new List<int>();\n",
    "\n",
    "foreach (int num in arr)\n",
    "{\n",
    "    if (num % 2 == 0)\n",
    "    {\n",
    "        even.Add(num);\n",
    "    }\n",
    "    else\n",
    "    {\n",
    "        odd.Add(num);\n",
    "    }\n",
    "}\n",
    "\n",
    "Console.Write(\"The Odd numbers are: \");\n",
    "foreach (int num in odd)\n",
    "{\n",
    "    Console.Write(num + \" \");\n",
    "}\n",
    "\n",
    "Console.WriteLine();\n",
    "\n",
    "Console.Write(\"The Even numbers are: \");\n",
    "foreach (int num in even)\n",
    "{\n",
    "    Console.Write(num + \" \");\n",
    "}\n",
    "\n",
    "Console.WriteLine();"
   ]
  },
  {
   "cell_type": "markdown",
   "metadata": {},
   "source": [
    "# Question 5\n",
    "a . Write a function inside(x,y,x1,y1,x2,y2) that returns True or False depending on whether the point (x,y) lies in the rectangle with lower left corner (x1,y1) and upper right corner (x2,y2).\n",
    "\n",
    "inside(1,1,0,0,2,3)\n",
    "True\n",
    "\n",
    "inside(-1,-1,0,0,2,3)\n",
    "False\n",
    "\n",
    "b. Use function inside() from part a. to write an expression that tests whether the point (1,1) lies in both of the following rectangles: one with lower left corner (0.3, 0.5) and upper right corner (1.1, 0.7) and the other with lower left corner (0.5, 0.2) and upper right corner (1.1, 2).\n",
    "\n"
   ]
  },
  {
   "cell_type": "markdown",
   "metadata": {},
   "source": []
  },
  {
   "cell_type": "code",
   "execution_count": null,
   "metadata": {
    "dotnet_interactive": {
     "language": "csharp"
    },
    "polyglot_notebook": {
     "kernelName": "csharp"
    }
   },
   "outputs": [
    {
     "name": "stdout",
     "output_type": "stream",
     "text": [
      "True\n",
      "False\n",
      "False\n"
     ]
    }
   ],
   "source": [
    "static bool Inside(double x, double y, double x1, double y1, double x2, double y2)\n",
    "    {\n",
    "        bool is_in = false;\n",
    "        if (x >= x1 && x <= x2 && y >= y1 && y <= y2)\n",
    "        {\n",
    "            is_in = true;\n",
    "        }\n",
    "        return is_in;\n",
    "    }\n",
    "\n",
    "    Console.WriteLine(Inside(1, 1, 0, 0, 2, 3));\n",
    "    Console.WriteLine(Inside(-1, -1, 0, 0, 2, 3));\n",
    "    Console.WriteLine(Inside(1, 1, 0.3, 0.5, 1.1, 0.7) && Inside(1, 1, 0.5, 0.2, 1.1, 2));\n"
   ]
  },
  {
   "cell_type": "markdown",
   "metadata": {},
   "source": [
    "# Question 6\n",
    "You can turn a word into pig-Latin using the following two rules (simplified):\n",
    "• If the word starts with a consonant, move that letter to the end and append 'ay'. For example, 'happy' becomes 'appyhay' and 'pencil' becomes 'encilpay'. • If the word starts with a vowel, simply append 'way' to the end of the word. For example, 'enter' becomes 'enterway' and 'other' becomes 'otherway' . For our purposes, there are 5 vowels: a, e, i, o, u (so we count y as a consonant). Write a function pig() that takes a word (i.e., a string) as input and returns its pigLatin form. Your function should still work if the input word contains upper case characters. Your output should always be lower case however."
   ]
  },
  {
   "cell_type": "code",
   "execution_count": null,
   "metadata": {},
   "outputs": [
    {
     "name": "stdout",
     "output_type": "stream",
     "text": [
      "appyhay\n",
      "enterway\n"
     ]
    }
   ],
   "source": [
    "def pig(s):\n",
    "    a= s.lower()\n",
    "    x=a[0]\n",
    "    if(x in \"aeiou\"):\n",
    "        return (a+\"way\")\n",
    "    else:\n",
    "        return (a[1:]+a[0]+\"ay\")\n",
    "print(pig(\"happy\"))\n",
    "print(pig(\"Enter\"))"
   ]
  },
  {
   "cell_type": "markdown",
   "metadata": {},
   "source": [
    "# Question 7\n",
    "File bloodtype1.txt records blood-types of patients (A, B, AB, O or OO) at a clinic. Write a function bldcount() that reads the file with name name and reports (i.e., prints) how many patients there are in each bloodtype."
   ]
  },
  {
   "cell_type": "code",
   "execution_count": 6,
   "metadata": {},
   "outputs": [
    {
     "name": "stdout",
     "output_type": "stream",
     "text": [
      "There are 12  patients of bloodtype A\n",
      "There are 13  patients of bloodtype B\n",
      "There are 8  patients of bloodtype AB\n",
      "There are 10  patients of bloodtype O\n",
      "There are 0  patients of bloodtype OO\n"
     ]
    }
   ],
   "source": [
    "def bldcount(s):\n",
    "    file = open(s)\n",
    "    data = file.read()\n",
    "    bloodtypes = data.strip().split(' ')\n",
    "    valid_bloodtypes = [\"A\", \"B\", \"AB\", \"O\", \"OO\"]\n",
    "    counts = [0,0,0,0,0]\n",
    "    for bloodtype in bloodtypes:\n",
    "        if bloodtype in valid_bloodtypes:\n",
    "            idx = valid_bloodtypes.index(bloodtype)\n",
    "            counts[idx] += 1\n",
    "    for i, bloodtype in enumerate(valid_bloodtypes):\n",
    "        print(f\"There are {counts[i]}  patients of bloodtype {bloodtype}\")\n",
    "bldcount(\"bloodtype.txt\")"
   ]
  },
  {
   "cell_type": "markdown",
   "metadata": {},
   "source": [
    "# Question 8\n",
    "Write a function curconv() that takes as input:\n",
    "\n",
    "a currency represented using a string (e.g., 'JPY' for the Japanese Yen or\n",
    "'EUR' for the Euro) 2. an amount and then converts and returns the amount in US dollars.\n",
    "\n",
    "curconv('EUR', 100)\n",
    "\n",
    "122.96544\n",
    "\n",
    "curconv('JPY', 100)\n",
    "\n",
    "1.241401"
   ]
  },
  {
   "cell_type": "code",
   "execution_count": 13,
   "metadata": {},
   "outputs": [
    {
     "name": "stdout",
     "output_type": "stream",
     "text": [
      "['AUD', '1.0345157', 'Australian', 'Dollar']\n",
      "Converted amount in USD: None\n"
     ]
    }
   ],
   "source": [
    "def curConv(Currency, value):\n",
    "    f = open(\"currencies.txt\")\n",
    "    lines = f.readlines()\n",
    "    for line in lines:\n",
    "        s = line.strip().split(' ')\n",
    "        print(s)\n",
    "        break\n",
    "        # code = s[0]\n",
    "        # convFactor = float(s[1])\n",
    "        # name = s[2]\n",
    "        \n",
    "        # if Currency == code:\n",
    "        #     return value * convFactor\n",
    "    \n",
    "print(\"Converted amount in USD:\", curConv('EUR', 100))\n",
    "# print(\"Converted amount in USD:\", curConv('JPY', 100))"
   ]
  }
 ],
 "metadata": {
  "kernelspec": {
   "display_name": "Python 3",
   "language": "python",
   "name": "python3"
  },
  "language_info": {
   "codemirror_mode": {
    "name": "ipython",
    "version": 3
   },
   "file_extension": ".py",
   "mimetype": "text/x-python",
   "name": "python",
   "nbconvert_exporter": "python",
   "pygments_lexer": "ipython3",
   "version": "3.10.10"
  },
  "orig_nbformat": 4,
  "polyglot_notebook": {
   "kernelInfo": {
    "defaultKernelName": "csharp",
    "items": [
     {
      "aliases": [],
      "name": "csharp"
     }
    ]
   }
  }
 },
 "nbformat": 4,
 "nbformat_minor": 2
}
